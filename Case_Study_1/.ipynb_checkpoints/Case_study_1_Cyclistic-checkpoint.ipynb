{
 "cells": [
  {
   "cell_type": "markdown",
   "id": "d3214af7-8a91-4d46-83b6-d5e9b78a5d20",
   "metadata": {},
   "source": [
    "<center> \n",
    "    \n",
    "#  Case de Estudio No. 1 \n",
    "    \n",
    "## Cyclistic: Bike-Share\n",
    "    \n",
    "---\n",
    "\n",
    "*Samuel Huertas Rojas* <br>\n",
    "    \n",
    "**Fecha:** Seeptiembre 2023\n",
    "    \n",
    "---\n",
    "    \n",
    "</center>\n"
   ]
  },
  {
   "cell_type": "markdown",
   "id": "04971ea2-3e4f-4a69-9a6a-4359e517dc68",
   "metadata": {},
   "source": [
    "## Descropción del Caso:\n",
    "\n"
   ]
  },
  {
   "cell_type": "code",
   "execution_count": null,
   "id": "b5bdd36f-58bd-4fa0-b7e4-8ee65fd2e399",
   "metadata": {},
   "outputs": [],
   "source": []
  },
  {
   "cell_type": "code",
   "execution_count": null,
   "id": "810eae31-7a00-461d-a951-6ba3c87cfe41",
   "metadata": {},
   "outputs": [],
   "source": []
  },
  {
   "cell_type": "code",
   "execution_count": null,
   "id": "62231393-9892-49ba-9fe6-16fcb83c627d",
   "metadata": {},
   "outputs": [],
   "source": []
  },
  {
   "cell_type": "code",
   "execution_count": null,
   "id": "72005327-df4e-4fc7-98d9-70b285d269bd",
   "metadata": {},
   "outputs": [],
   "source": []
  },
  {
   "cell_type": "code",
   "execution_count": null,
   "id": "384fa609-e117-4085-8498-3cf9c0855d7c",
   "metadata": {},
   "outputs": [],
   "source": []
  },
  {
   "cell_type": "code",
   "execution_count": null,
   "id": "9737dff5-eb10-4765-8780-af9c5dd2f931",
   "metadata": {},
   "outputs": [],
   "source": []
  }
 ],
 "metadata": {
  "kernelspec": {
   "display_name": "Python 3 (ipykernel)",
   "language": "python",
   "name": "python3"
  },
  "language_info": {
   "name": ""
  }
 },
 "nbformat": 4,
 "nbformat_minor": 5
}
