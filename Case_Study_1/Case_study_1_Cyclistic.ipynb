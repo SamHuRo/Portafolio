{
 "cells": [
  {
   "cell_type": "markdown",
   "id": "d3214af7-8a91-4d46-83b6-d5e9b78a5d20",
   "metadata": {},
   "source": [
    "<center> \n",
    "    \n",
    "#  Case de Estudio No. 1 \n",
    "    \n",
    "## Cyclistic: Bike-Share\n",
    "    \n",
    "---\n",
    "\n",
    "*Samuel Huertas Rojas* <br>\n",
    "    \n",
    "**Fecha:** Seeptiembre 2023\n",
    "    \n",
    "---\n",
    "    \n",
    "</center>\n"
   ]
  },
  {
   "cell_type": "markdown",
   "id": "04971ea2-3e4f-4a69-9a6a-4359e517dc68",
   "metadata": {},
   "source": [
    "## Descropción del Caso:\n",
    "\n",
    "### Panorama:\n",
    "El director de marketing cree que el éxito a futuro de la empresa depende de maximizar el número de socios anuales. Por lo tanto, su equipo quiere entender cómo los ciclistas ocasionales y los socios anuales utilizan las bicicletas Cyclistic de forma diferente. A partir de esta información, su equipo diseñará una nueva estrategia de marketing para convertir a los ciclistas ocasionales en socios anuales. Pero antes, los directivos de Cyclistic deben aprobar sus recomendaciones, por lo que deben estar respaldadas por datos convincentes y visualizaciones de datos profesionales.\n",
    "\n",
    "### Sobre la compañía:\n",
    "En 2016, Cyclistic lanzó una oferta exitosa de bicicletas compartidas. Desde entonces, el programa ha crecido hasta contar con una flota de 5.824 bicicletas rastreadas y bloqueadas en una red de 692 estaciones en todo Chicago. Las bicicletas pueden desbloquearse en una estación y devolverse en otra, en cualquier momento.\n",
    "\n",
    "Hasta ahora, la estrategia de marketing de Cyclistic se basaba en crear conciencia general y atraer a amplios segmentos de consumidores. Uno de los factores que contribuyó a hacer esto posible fue la flexibilidad de sus planes de precios: pases de un solo viaje, pases de día completo y abonos anuales. Los clientes que compran pases de un solo viaje o de un día completo se denominan usuarios ocasionales. Los clientes que compran membresías anuales son miembros Cyclistic.\n",
    "\n",
    "Los analistas financieros de Cyclistic han llegado a la conclusión de que los miembros anuales son mucho más rentables que los usuarios ocasionales. Aunque la flexibilidad de precios ayuda a Cyclistic a atraer a más clientes, Moreno cree que maximizar el número de socios anuales será clave para el crecimiento futuro. En lugar de crear una campaña de marketing dirigida a nuevos clientes, Moreno cree que hay muchas posibilidades de convertir a los ciclistas ocasionales en socios. Moreno se ha fijado un objetivo claro: diseñar estrategias de marketing dirigidas a convertir a los ciclistas ocasionales en socios anuales. \n",
    "\n",
    "\n",
    "Sin embargo, para conseguirlo, el equipo de analistas de marketing necesita comprender mejor en qué se diferencian los miembros anuales y los ciclistas ocasionales, por qué los ciclistas ocasionales comprarían un abono y cómo los medios digitales podrían afectar a sus tácticas de marketing. Moreno y su equipo están interesados en analizar los datos históricos de viajes en bicicleta de Cyclistic para identificar tendencias.\n",
    "\n"
   ]
  },
  {
   "cell_type": "markdown",
   "id": "5212f9d3-e09a-4900-af6c-3320e571d384",
   "metadata": {},
   "source": [
    "## Objetivo:\n",
    "Antes de realizar las preguntas se va a describir el objetivo que se quiere realizar con este análisis:\n",
    "* Definir cuál es la mejor estrategia de marketing para la empresa, si enfocarse en captar a más miembros anuales o a ciclistas ocasionales.\n",
    "* Cual de estos dos tipos de clientes le ofrece más beneficios a la empresa."
   ]
  },
  {
   "cell_type": "markdown",
   "id": "8c930236-7a05-4ce4-a464-2dadccf03030",
   "metadata": {},
   "source": [
    "## Preguntas:\n",
    "Una vez definido el objetivo del proyecto se van a plantear alguna de las preguntas que van a guiar el caso de estudio, entre ellas están:\n",
    "\n",
    "* ¿En qué se diferencian los miembros anuales y los ciclistas ocasionales en el uso de las bicicletas Cyclistic? \n",
    "* ¿Por qué los ciclistas ocasionales se harían socios anuales de Cyclistic? \n",
    "* ¿Cómo puede Cyclistic utilizar los medios digitales para influir en los ciclistas ocasionales para que se hagan miembros ?\n",
    "* ¿Cuál es el porcentaje de clientes que tienen membresía anual y cual es el porcentaje de clientes ocasionales?\n",
    "\n"
   ]
  },
  {
   "cell_type": "markdown",
   "id": "54c27773-8c21-430e-8ac2-dd262a695b23",
   "metadata": {},
   "source": [
    "## Preparar los datos:\n",
    "\n",
    "### Importar los datos\n",
    "Los datos al encontrarse en una carpeta .zip, se deben de descomprimir y pasarlos a un repositorio, el cual se encuentra en una carpeta del computador."
   ]
  },
  {
   "cell_type": "code",
   "execution_count": 1,
   "id": "810eae31-7a00-461d-a951-6ba3c87cfe41",
   "metadata": {},
   "outputs": [],
   "source": [
    "#Primero vamos a importar la libreria necesaria para realizar dicha extracción\n",
    "import zipfile\n",
    "#Libreria para obtener los nombres que se encuentran en una carpeta\n",
    "import os"
   ]
  },
  {
   "cell_type": "code",
   "execution_count": 4,
   "id": "57350dbf-c271-4143-8411-bd189fee5d97",
   "metadata": {},
   "outputs": [
    {
     "data": {
      "text/plain": [
       "['202004-divvy-tripdata.zip',\n",
       " '202005-divvy-tripdata.zip',\n",
       " '202006-divvy-tripdata.zip',\n",
       " '202008-divvy-tripdata.zip',\n",
       " '202009-divvy-tripdata.zip',\n",
       " '202010-divvy-tripdata.zip',\n",
       " '202011-divvy-tripdata.zip',\n",
       " '202012-divvy-tripdata.zip',\n",
       " '202101-divvy-tripdata.zip',\n",
       " '202104-divvy-tripdata.zip',\n",
       " '202106-divvy-tripdata.zip',\n",
       " '202107-divvy-tripdata.zip',\n",
       " '202108-divvy-tripdata.zip',\n",
       " '202110-divvy-tripdata.zip',\n",
       " '202111-divvy-tripdata.zip',\n",
       " '202112-divvy-tripdata.zip',\n",
       " '202201-divvy-tripdata.zip',\n",
       " '202202-divvy-tripdata.zip',\n",
       " '202203-divvy-tripdata.zip',\n",
       " '202204-divvy-tripdata.zip',\n",
       " '202205-divvy-tripdata.zip',\n",
       " '202206-divvy-tripdata.zip',\n",
       " '202207-divvy-tripdata.zip',\n",
       " '202208-divvy-tripdata.zip',\n",
       " '202209-divvy-tripdata.zip',\n",
       " '202210-divvy-tripdata.zip',\n",
       " '202211-divvy-tripdata.zip',\n",
       " '202212-divvy-tripdata.zip',\n",
       " '202301-divvy-tripdata.zip',\n",
       " '202302-divvy-tripdata.zip',\n",
       " '202303-divvy-tripdata.zip',\n",
       " '202304-divvy-tripdata.zip',\n",
       " '202305-divvy-tripdata.zip',\n",
       " '202306-divvy-tripdata.zip',\n",
       " '202307-divvy-tripdata.zip',\n",
       " 'Divvy_Stations_Trips_2013.zip',\n",
       " 'Divvy_Stations_Trips_2014_Q1Q2.zip',\n",
       " 'Divvy_Stations_Trips_2014_Q3Q4.zip',\n",
       " 'Divvy_Trips_2015-Q1Q2.zip',\n",
       " 'Divvy_Trips_2015_Q3Q4.zip',\n",
       " 'Divvy_Trips_2016_Q1Q2.zip',\n",
       " 'Divvy_Trips_2016_Q3Q4.zip',\n",
       " 'Divvy_Trips_2017_Q1Q2.zip',\n",
       " 'Divvy_Trips_2017_Q3Q4.zip',\n",
       " 'Divvy_Trips_2018_Q1.zip',\n",
       " 'Divvy_Trips_2018_Q2.zip',\n",
       " 'Divvy_Trips_2018_Q3.zip',\n",
       " 'Divvy_Trips_2018_Q4.zip',\n",
       " 'Divvy_Trips_2019_Q1.zip',\n",
       " 'Divvy_Trips_2019_Q2.zip',\n",
       " 'Divvy_Trips_2019_Q3.zip',\n",
       " 'Divvy_Trips_2019_Q4.zip',\n",
       " 'Divvy_Trips_2020_Q1.zip']"
      ]
     },
     "execution_count": 4,
     "metadata": {},
     "output_type": "execute_result"
    }
   ],
   "source": [
    "#Variable para guardar la ruta a la que queremos acceder\n",
    "ruta = \"/Users/samuel/Documents/Cursos/Google_Certificado/Case_Study_1_datos/zip/\"\n",
    "\n",
    "contenido = os.listdir(ruta)\n",
    "\n",
    "carpetas_zip = []\n",
    "\n",
    "for fichero in contenido:\n",
    "    if os.path.isfile(os.path.join(ruta, fichero)) and fichero.endswith('.zip'):\n",
    "        carpetas_zip.append(fichero)\n",
    "carpetas_zip.sort()\n",
    "carpetas_zip"
   ]
  },
  {
   "cell_type": "code",
   "execution_count": 5,
   "id": "62231393-9892-49ba-9fe6-16fcb83c627d",
   "metadata": {},
   "outputs": [
    {
     "name": "stdout",
     "output_type": "stream",
     "text": [
      "['202004-divvy-tripdata.csv', '__MACOSX/', '__MACOSX/._202004-divvy-tripdata.csv']\n",
      "['202005-divvy-tripdata.csv', '__MACOSX/', '__MACOSX/._202005-divvy-tripdata.csv']\n",
      "['202006-divvy-tripdata.csv', '__MACOSX/', '__MACOSX/._202006-divvy-tripdata.csv']\n",
      "['202008-divvy-tripdata.csv', '__MACOSX/', '__MACOSX/._202008-divvy-tripdata.csv']\n",
      "['202009-divvy-tripdata.csv', '__MACOSX/', '__MACOSX/._202009-divvy-tripdata.csv']\n",
      "['202010-divvy-tripdata.csv', '__MACOSX/._202010-divvy-tripdata.csv']\n",
      "['202011-divvy-tripdata.csv', '__MACOSX/._202011-divvy-tripdata.csv']\n",
      "['202012-divvy-tripdata.csv', '__MACOSX/._202012-divvy-tripdata.csv']\n",
      "['202101-divvy-tripdata.csv', '__MACOSX/._202101-divvy-tripdata.csv']\n",
      "['202104-divvy-tripdata.csv', '__MACOSX/._202104-divvy-tripdata.csv']\n",
      "['202106-divvy-tripdata.csv', '__MACOSX/._202106-divvy-tripdata.csv']\n",
      "['202107-divvy-tripdata.csv', '__MACOSX/._202107-divvy-tripdata.csv']\n",
      "['202108-divvy-tripdata.csv', '__MACOSX/._202108-divvy-tripdata.csv']\n",
      "['202110-divvy-tripdata.csv', '__MACOSX/._202110-divvy-tripdata.csv']\n",
      "['202111-divvy-tripdata.csv', '__MACOSX/._202111-divvy-tripdata.csv']\n",
      "['202112-divvy-tripdata.csv', '__MACOSX/._202112-divvy-tripdata.csv']\n",
      "['202201-divvy-tripdata.csv', '__MACOSX/._202201-divvy-tripdata.csv']\n",
      "['202202-divvy-tripdata.csv', '__MACOSX/._202202-divvy-tripdata.csv']\n",
      "['202203-divvy-tripdata.csv', '__MACOSX/._202203-divvy-tripdata.csv']\n",
      "['202204-divvy-tripdata.csv', '__MACOSX/._202204-divvy-tripdata.csv']\n",
      "['202205-divvy-tripdata.csv', '__MACOSX/._202205-divvy-tripdata.csv']\n",
      "['202206-divvy-tripdata.csv', '__MACOSX/._202206-divvy-tripdata.csv']\n",
      "['202207-divvy-tripdata.csv', '__MACOSX/._202207-divvy-tripdata.csv']\n",
      "['202208-divvy-tripdata.csv', '__MACOSX/._202208-divvy-tripdata.csv']\n",
      "['202209-divvy-publictripdata.csv', '__MACOSX/._202209-divvy-publictripdata.csv']\n",
      "['202210-divvy-tripdata.csv', '__MACOSX/._202210-divvy-tripdata.csv']\n",
      "['202211-divvy-tripdata.csv', '__MACOSX/._202211-divvy-tripdata.csv']\n",
      "['202212-divvy-tripdata.csv', '__MACOSX/._202212-divvy-tripdata.csv']\n",
      "['202301-divvy-tripdata.csv', '__MACOSX/._202301-divvy-tripdata.csv']\n",
      "['202302-divvy-tripdata.csv', '__MACOSX/._202302-divvy-tripdata.csv']\n",
      "['202303-divvy-tripdata.csv', '__MACOSX/._202303-divvy-tripdata.csv']\n",
      "['202304-divvy-tripdata.csv', '__MACOSX/._202304-divvy-tripdata.csv']\n",
      "['202305-divvy-tripdata.csv', '__MACOSX/._202305-divvy-tripdata.csv']\n",
      "['202306-divvy-tripdata.csv', '__MACOSX/._202306-divvy-tripdata.csv']\n",
      "['202307-divvy-tripdata.csv', '__MACOSX/._202307-divvy-tripdata.csv']\n",
      "['Divvy_Stations_Trips_2013/Divvy_Stations_2013.csv', 'Divvy_Stations_Trips_2013/Divvy_Stations_2013.shp.zip', 'Divvy_Stations_Trips_2013/Divvy_Trips_2013.csv', 'Divvy_Stations_Trips_2013/README.txt']\n",
      "['Divvy_Trips_2014_Q1Q2.csv', 'Divvy_Stations_2014_Q1Q2.shp.zip', 'Divvy_Stations_2014-Q1Q2.xlsx', 'README.txt']\n",
      "['Divvy_Stations_Trips_2014_Q3Q4/Divvy_Stations_2014_Q3Q4.zip', 'Divvy_Stations_Trips_2014_Q3Q4/Divvy_Stations_2014-Q3Q4.csv', 'Divvy_Stations_Trips_2014_Q3Q4/Divvy_Trips_2014-Q3-07.csv', 'Divvy_Stations_Trips_2014_Q3Q4/Divvy_Trips_2014-Q3-0809.csv', 'Divvy_Stations_Trips_2014_Q3Q4/Divvy_Trips_2014-Q4.csv', 'Divvy_Stations_Trips_2014_Q3Q4/README.txt']\n",
      "['Divvy_Trips_2015-Q1.csv', 'Divvy_Stations_2015.csv', 'Divvy_Trips_2015-Q2.csv']\n",
      "['Divvy_Trips_2015_Q4.csv', 'Divvy_Trips_2015_09.csv', 'Divvy_Trips_2015_08.csv', 'Divvy_Trips_2015_07.csv']\n",
      "['Divvy_Trips_2016_Q1Q2/Divvy_Stations_2016_Q1Q2.csv', 'Divvy_Trips_2016_Q1Q2/Divvy_Trips_2016_04.csv', 'Divvy_Trips_2016_Q1Q2/Divvy_Trips_2016_05.csv', 'Divvy_Trips_2016_Q1Q2/Divvy_Trips_2016_06.csv', 'Divvy_Trips_2016_Q1Q2/Divvy_Trips_2016_Q1.csv', 'Divvy_Trips_2016_Q1Q2/README.txt']\n",
      "['Divvy_Stations_2016_Q4.csv', 'Divvy_Trips_2016_Q3.csv', 'README_2016_Q4.txt', 'README_2016_Q3.txt', 'Divvy_Stations_2016_Q3.csv', 'Divvy_Trips_2016_Q4.csv']\n",
      "['Divvy_Trips_2017_Q1.csv', 'Divvy_Stations_2017_Q1Q2.csv', 'README.txt', 'Divvy_Trips_2017_Q2.csv']\n",
      "['Divvy_Stations_2017_Q3Q4.csv', 'Divvy_Trips_2017_Q3.csv', 'Divvy_Trips_2017_Q4.csv', 'README.txt']\n",
      "['Divvy_Trips_2018_Q1.csv', '__MACOSX/', '__MACOSX/._Divvy_Trips_2018_Q1.csv']\n",
      "['Divvy_Trips_2018_Q2.csv', '__MACOSX/', '__MACOSX/._Divvy_Trips_2018_Q2.csv']\n",
      "['Divvy_Trips_2018_Q3.csv', '__MACOSX/', '__MACOSX/._Divvy_Trips_2018_Q3.csv']\n",
      "['Divvy_Trips_2018_Q4.csv', '__MACOSX/', '__MACOSX/._Divvy_Trips_2018_Q4.csv']\n",
      "['Divvy_Trips_2019_Q1.csv', '__MACOSX/._Divvy_Trips_2019_Q1.csv']\n",
      "['Divvy_Trips_2019_Q2.csv', '__MACOSX/._Divvy_Trips_2019_Q2.csv']\n",
      "['Divvy_Trips_2019_Q3.csv', '__MACOSX/', '__MACOSX/._Divvy_Trips_2019_Q3.csv']\n",
      "['Divvy_Trips_2019_Q4.csv', '__MACOSX/', '__MACOSX/._Divvy_Trips_2019_Q4.csv']\n",
      "['Divvy_Trips_2020_Q1.csv', '__MACOSX/', '__MACOSX/._Divvy_Trips_2020_Q1.csv']\n"
     ]
    }
   ],
   "source": [
    "for i in carpetas_zip:\n",
    "    #Definimos la ruta donde se encuentran los archivos .zip\n",
    "    ruta_zip = ruta + i\n",
    "    #Definimos la ruta en donde se van a guardar los datos extraidos\n",
    "    ruta_extraccion = \"/Users/samuel/Documents/Cursos/Google_Certificado/Case_Study_1_datos/Datos\"\n",
    "    #Si se requiere una contraseña para realizar dicha operación\n",
    "    password = None\n",
    "    archivo_zip = zipfile.ZipFile(ruta_zip, \"r\")\n",
    "    try:\n",
    "        print(archivo_zip.namelist())\n",
    "        archivo_zip.extractall(pwd=password, path=ruta_extraccion)\n",
    "    except:\n",
    "        pass\n",
    "    archivo_zip.close()"
   ]
  },
  {
   "cell_type": "markdown",
   "id": "00efb4e7-be01-470d-9a84-78001a48c030",
   "metadata": {},
   "source": [
    "Una vez con los datos guardados en la carpeta se va a revisar si estos se encuentran en buen estado y como están organizados."
   ]
  },
  {
   "cell_type": "code",
   "execution_count": 8,
   "id": "53ba8319-6b95-451e-9077-ee50f542d448",
   "metadata": {},
   "outputs": [],
   "source": [
    "from pyspark.sql import SparkSession\n",
    "from pyspark.sql.functions import expr\n",
    "\n",
    "os.environ[\"JAVA_HOME\"] = \"/usr/lib/jvm/java-8-openjdk-amd64\"\n",
    "os.environ[\"SPARK_HOME\"] = \"/content/spark-3.1.1-bin-hadoop3.2\"\n",
    "\n",
    "spark = SparkSession.builder\\\n",
    "        .master(\"local[*]\")\\\n",
    "        .appName('PySpark_Df')\\\n",
    "        .getOrCreate()"
   ]
  },
  {
   "cell_type": "code",
   "execution_count": 9,
   "id": "384fa609-e117-4085-8498-3cf9c0855d7c",
   "metadata": {},
   "outputs": [
    {
     "name": "stderr",
     "output_type": "stream",
     "text": [
      "                                                                                \r"
     ]
    }
   ],
   "source": [
    "df = spark.read.csv(\"/Users/samuel/Documents/Cursos/Google_Certificado/Case_Study_1_datos/Datos/202004-divvy-tripdata.csv\", header= True, inferSchema= True)"
   ]
  },
  {
   "cell_type": "code",
   "execution_count": 11,
   "id": "2b44fee9-5c38-43ec-ba90-7580c4c26726",
   "metadata": {},
   "outputs": [
    {
     "name": "stdout",
     "output_type": "stream",
     "text": [
      "root\n",
      " |-- ride_id: string (nullable = true)\n",
      " |-- rideable_type: string (nullable = true)\n",
      " |-- started_at: timestamp (nullable = true)\n",
      " |-- ended_at: timestamp (nullable = true)\n",
      " |-- start_station_name: string (nullable = true)\n",
      " |-- start_station_id: integer (nullable = true)\n",
      " |-- end_station_name: string (nullable = true)\n",
      " |-- end_station_id: integer (nullable = true)\n",
      " |-- start_lat: double (nullable = true)\n",
      " |-- start_lng: double (nullable = true)\n",
      " |-- end_lat: double (nullable = true)\n",
      " |-- end_lng: double (nullable = true)\n",
      " |-- member_casual: string (nullable = true)\n",
      "\n"
     ]
    }
   ],
   "source": [
    "df.printSchema()"
   ]
  },
  {
   "cell_type": "code",
   "execution_count": null,
   "id": "87e1259c-fd1d-48f5-a933-ad0d8822ae02",
   "metadata": {},
   "outputs": [],
   "source": []
  }
 ],
 "metadata": {
  "kernelspec": {
   "display_name": "Python 3 (ipykernel)",
   "language": "python",
   "name": "python3"
  },
  "language_info": {
   "codemirror_mode": {
    "name": "ipython",
    "version": 3
   },
   "file_extension": ".py",
   "mimetype": "text/x-python",
   "name": "python",
   "nbconvert_exporter": "python",
   "pygments_lexer": "ipython3",
   "version": "3.10.9"
  }
 },
 "nbformat": 4,
 "nbformat_minor": 5
}
