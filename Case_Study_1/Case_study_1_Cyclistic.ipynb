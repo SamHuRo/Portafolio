{
 "cells": [
  {
   "cell_type": "markdown",
   "id": "d3214af7-8a91-4d46-83b6-d5e9b78a5d20",
   "metadata": {},
   "source": [
    "<center> \n",
    "    \n",
    "#  Case de Estudio No. 1 \n",
    "    \n",
    "## Cyclistic: Bike-Share\n",
    "    \n",
    "---\n",
    "\n",
    "*Samuel Huertas Rojas* <br>\n",
    "    \n",
    "**Fecha:** Seeptiembre 2023\n",
    "    \n",
    "---\n",
    "    \n",
    "</center>\n"
   ]
  },
  {
   "cell_type": "markdown",
   "id": "04971ea2-3e4f-4a69-9a6a-4359e517dc68",
   "metadata": {},
   "source": [
    "## Descropción del Caso:\n",
    "\n",
    "### Panorama:\n",
    "El director de marketing cree que el éxito a futuro de la empresa depende de maximizar el número de socios anuales. Por lo tanto, su equipo quiere entender cómo los ciclistas ocasionales y los socios anuales utilizan las bicicletas Cyclistic de forma diferente. A partir de esta información, su equipo diseñará una nueva estrategia de marketing para convertir a los ciclistas ocasionales en socios anuales. Pero antes, los directivos de Cyclistic deben aprobar sus recomendaciones, por lo que deben estar respaldadas por datos convincentes y visualizaciones de datos profesionales.\n",
    "\n",
    "### Sobre la compañía:\n",
    "En 2016, Cyclistic lanzó una oferta exitosa de bicicletas compartidas. Desde entonces, el programa ha crecido hasta contar con una flota de 5.824 bicicletas rastreadas y bloqueadas en una red de 692 estaciones en todo Chicago. Las bicicletas pueden desbloquearse en una estación y devolverse en otra, en cualquier momento.\n",
    "\n",
    "Hasta ahora, la estrategia de marketing de Cyclistic se basaba en crear conciencia general y atraer a amplios segmentos de consumidores. Uno de los factores que contribuyó a hacer esto posible fue la flexibilidad de sus planes de precios: pases de un solo viaje, pases de día completo y abonos anuales. Los clientes que compran pases de un solo viaje o de un día completo se denominan usuarios ocasionales. Los clientes que compran membresías anuales son miembros Cyclistic.\n",
    "\n",
    "Los analistas financieros de Cyclistic han llegado a la conclusión de que los miembros anuales son mucho más rentables que los usuarios ocasionales. Aunque la flexibilidad de precios ayuda a Cyclistic a atraer a más clientes, Moreno cree que maximizar el número de socios anuales será clave para el crecimiento futuro. En lugar de crear una campaña de marketing dirigida a nuevos clientes, Moreno cree que hay muchas posibilidades de convertir a los ciclistas ocasionales en socios. Moreno se ha fijado un objetivo claro: diseñar estrategias de marketing dirigidas a convertir a los ciclistas ocasionales en socios anuales. \n",
    "\n",
    "\n",
    "Sin embargo, para conseguirlo, el equipo de analistas de marketing necesita comprender mejor en qué se diferencian los miembros anuales y los ciclistas ocasionales, por qué los ciclistas ocasionales comprarían un abono y cómo los medios digitales podrían afectar a sus tácticas de marketing. Moreno y su equipo están interesados en analizar los datos históricos de viajes en bicicleta de Cyclistic para identificar tendencias.\n",
    "\n"
   ]
  },
  {
   "cell_type": "markdown",
   "id": "5212f9d3-e09a-4900-af6c-3320e571d384",
   "metadata": {},
   "source": [
    "## Preguntas:\n"
   ]
  },
  {
   "cell_type": "code",
   "execution_count": null,
   "id": "0ba9998f-02e3-4c0c-9a54-e668af3385ed",
   "metadata": {},
   "outputs": [],
   "source": []
  },
  {
   "cell_type": "code",
   "execution_count": null,
   "id": "810eae31-7a00-461d-a951-6ba3c87cfe41",
   "metadata": {},
   "outputs": [],
   "source": []
  },
  {
   "cell_type": "code",
   "execution_count": null,
   "id": "62231393-9892-49ba-9fe6-16fcb83c627d",
   "metadata": {},
   "outputs": [],
   "source": []
  },
  {
   "cell_type": "code",
   "execution_count": null,
   "id": "72005327-df4e-4fc7-98d9-70b285d269bd",
   "metadata": {},
   "outputs": [],
   "source": []
  },
  {
   "cell_type": "code",
   "execution_count": null,
   "id": "384fa609-e117-4085-8498-3cf9c0855d7c",
   "metadata": {},
   "outputs": [],
   "source": []
  },
  {
   "cell_type": "code",
   "execution_count": null,
   "id": "9737dff5-eb10-4765-8780-af9c5dd2f931",
   "metadata": {},
   "outputs": [],
   "source": []
  }
 ],
 "metadata": {
  "kernelspec": {
   "display_name": "Python 3 (ipykernel)",
   "language": "python",
   "name": "python3"
  },
  "language_info": {
   "name": ""
  }
 },
 "nbformat": 4,
 "nbformat_minor": 5
}
